{
 "cells": [
  {
   "cell_type": "code",
   "execution_count": 6,
   "metadata": {},
   "outputs": [],
   "source": [
    "import configparser\n",
    "import csv\n",
    "\n",
    "# Read data from the CSV file\n",
    "data = []\n",
    "with open('/Users/piixel/Desktop/a/SSDM LOGIN JB.csv', 'r') as csvfile:\n",
    "    csvreader = csv.DictReader(csvfile)\n",
    "    for row in csvreader:\n",
    "        data.append(row)\n",
    "\n",
    "# Create an INI file\n",
    "config = configparser.ConfigParser()\n",
    "\n",
    "# Add a section header for your data\n",
    "config.add_section('JB DETAIL')\n",
    "\n",
    "# Iterate through the data and add it to the INI file\n",
    "for row in data:\n",
    "    for key, value in row.items():\n",
    "        config.set('JB DETAIL', key, value)\n",
    "\n",
    "# Save the INI file\n",
    "with open('/Users/piixel/Desktop/a/config.ini', 'w') as configfile:\n",
    "    config.write(configfile)\n"
   ]
  }
 ],
 "metadata": {
  "kernelspec": {
   "display_name": "py37",
   "language": "python",
   "name": "python3"
  },
  "language_info": {
   "codemirror_mode": {
    "name": "ipython",
    "version": 3
   },
   "file_extension": ".py",
   "mimetype": "text/x-python",
   "name": "python",
   "nbconvert_exporter": "python",
   "pygments_lexer": "ipython3",
   "version": "3.7.16"
  }
 },
 "nbformat": 4,
 "nbformat_minor": 2
}
