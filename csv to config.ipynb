{
 "cells": [
  {
   "cell_type": "code",
   "execution_count": 4,
   "metadata": {},
   "outputs": [
    {
     "name": "stdout",
     "output_type": "stream",
     "text": [
      "CSV file \"<_io.TextIOWrapper name='/Users/piixel/Downloads/SSDM LOGIN TERENGGANU.xlsx - Sheet1.csv' mode='r' encoding='UTF-8'>\" has been converted to JSON file \"<_io.TextIOWrapper name='/Users/piixel/Desktop/data.json' mode='w' encoding='UTF-8'>\".\n"
     ]
    }
   ],
   "source": [
    "import csv\n",
    "import json\n",
    "\n",
    "# Define the input and output file paths\n",
    "csv_file = '/Users/piixel/Downloads/SSDM LOGIN TERENGGANU.xlsx - Sheet1.csv'\n",
    "json_file = '/Users/piixel/Desktop/data.json'\n",
    "\n",
    "# Initialize an empty list to store the data\n",
    "data = []\n",
    "\n",
    "# Read the CSV file and convert it to a list of dictionaries\n",
    "with open(csv_file, 'r') as csv_file:\n",
    "    csv_reader = csv.DictReader(csv_file)\n",
    "    for row in csv_reader:\n",
    "        data.append(row)\n",
    "\n",
    "# Write the data to a JSON file\n",
    "with open(json_file, 'w') as json_file:\n",
    "    json.dump(data, json_file, indent=4)\n",
    "\n",
    "print(f'CSV file \"{csv_file}\" has been converted to JSON file \"{json_file}\".')\n",
    "\n"
   ]
  }
 ],
 "metadata": {
  "kernelspec": {
   "display_name": "Python 3 (ipykernel)",
   "language": "python",
   "name": "python3"
  },
  "language_info": {
   "codemirror_mode": {
    "name": "ipython",
    "version": 3
   },
   "file_extension": ".py",
   "mimetype": "text/x-python",
   "name": "python",
   "nbconvert_exporter": "python",
   "pygments_lexer": "ipython3",
   "version": "3.7.16"
  }
 },
 "nbformat": 4,
 "nbformat_minor": 2
}
