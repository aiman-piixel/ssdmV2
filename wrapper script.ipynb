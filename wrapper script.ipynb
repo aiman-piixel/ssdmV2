{
 "cells": [
  {
   "cell_type": "code",
   "execution_count": null,
   "metadata": {},
   "outputs": [],
   "source": [
    "from pathlib import Path\n",
    "import subprocess\n",
    "import time\n",
    "\n",
    "current_directory = Path.cwd()\n",
    "script_path = current_directory / \"sync.py\"\n",
    "target = str(script_path)\n",
    "\n",
    "def run_target_script():\n",
    "    while True:\n",
    "        try:\n",
    "            # Launch the target script using subprocess\n",
    "            completed_process = subprocess.run([\"python\", target])\n",
    "            \n",
    "            # Check if the target script completed successfully\n",
    "            if completed_process.returncode == 0:\n",
    "                print(\"Target script completed successfully.\")\n",
    "                break  # End the loop\n",
    "            else:\n",
    "                print(f\"Target script returned non-zero exit code: {completed_process.returncode}\")\n",
    "            \n",
    "        except Exception as e:\n",
    "            print(f\"Error encountered: {e}\")\n",
    "        \n",
    "        # Wait for a certain duration before restarting\n",
    "        print(\"Restarting the target script in 2 seconds...\")\n",
    "        time.sleep(2)  # You can adjust the duration as needed\n",
    "\n",
    "if __name__ == \"__main__\":\n",
    "    run_target_script()"
   ]
  }
 ],
 "metadata": {
  "language_info": {
   "name": "python"
  }
 },
 "nbformat": 4,
 "nbformat_minor": 2
}
